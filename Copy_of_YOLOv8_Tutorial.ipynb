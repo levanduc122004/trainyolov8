{
  "nbformat": 4,
  "nbformat_minor": 0,
  "metadata": {
    "colab": {
      "provenance": [],
      "include_colab_link": true
    },
    "kernelspec": {
      "name": "python3",
      "display_name": "Python 3"
    },
    "accelerator": "GPU"
  },
  "cells": [
    {
      "cell_type": "markdown",
      "metadata": {
        "id": "view-in-github",
        "colab_type": "text"
      },
      "source": [
        "<a href=\"https://colab.research.google.com/github/levanduc122004/trainyolov8/blob/main/Copy_of_YOLOv8_Tutorial.ipynb\" target=\"_parent\"><img src=\"https://colab.research.google.com/assets/colab-badge.svg\" alt=\"Open In Colab\"/></a>"
      ]
    },
    {
      "cell_type": "markdown",
      "metadata": {
        "id": "7mGmQbAO5pQb"
      },
      "source": [
        "# Setup\n",
        "\n",
        "Pip install `ultralytics` and [dependencies](https://github.com/ultralytics/ultralytics/blob/main/pyproject.toml) and check software and hardware."
      ]
    },
    {
      "cell_type": "code",
      "source": [
        "from google.colab import drive\n",
        "drive.mount('/content/drive')"
      ],
      "metadata": {
        "colab": {
          "base_uri": "https://localhost:8080/"
        },
        "id": "03Sj-DlEmFsK",
        "outputId": "bb4cd921-fcaf-43d8-b4c2-61ae3f42b6f4"
      },
      "execution_count": null,
      "outputs": [
        {
          "output_type": "stream",
          "name": "stdout",
          "text": [
            "Drive already mounted at /content/drive; to attempt to forcibly remount, call drive.mount(\"/content/drive\", force_remount=True).\n"
          ]
        }
      ]
    },
    {
      "cell_type": "code",
      "metadata": {
        "id": "wbvMlHd_QwMG",
        "colab": {
          "base_uri": "https://localhost:8080/"
        },
        "outputId": "4f3fa2c5-6611-4dde-9b0e-c9bb0777bd45"
      },
      "source": [
        "%pip install ultralytics\n",
        "import ultralytics\n",
        "ultralytics.checks()"
      ],
      "execution_count": 1,
      "outputs": [
        {
          "output_type": "stream",
          "name": "stdout",
          "text": [
            "Ultralytics YOLOv8.2.12 🚀 Python-3.10.12 torch-2.2.1+cu121 CPU (Intel Xeon 2.20GHz)\n",
            "Setup complete ✅ (2 CPUs, 12.7 GB RAM, 29.8/107.7 GB disk)\n"
          ]
        }
      ]
    },
    {
      "cell_type": "markdown",
      "metadata": {
        "id": "4JnkELT0cIJg"
      },
      "source": [
        "# 1. Predict\n",
        "\n",
        "YOLOv8 may be used directly in the Command Line Interface (CLI) with a `yolo` command for a variety of tasks and modes and accepts additional arguments, i.e. `imgsz=640`. See a full list of available `yolo` [arguments](https://docs.ultralytics.com/usage/cfg/) and other details in the [YOLOv8 Predict Docs](https://docs.ultralytics.com/modes/train/).\n"
      ]
    },
    {
      "cell_type": "code",
      "metadata": {
        "id": "zR9ZbuQCH7FX",
        "colab": {
          "base_uri": "https://localhost:8080/"
        },
        "outputId": "677305fe-2195-4d9f-a5b9-a5f127b7bda2"
      },
      "source": [
        "# Run inference on an image with YOLOv8n\n",
        "!yolo predict model=/content/runs/detect/train2/weights/best.pt source='/content/text.jpg' save=true"
      ],
      "execution_count": 8,
      "outputs": [
        {
          "output_type": "stream",
          "name": "stdout",
          "text": [
            "Ultralytics YOLOv8.2.12 🚀 Python-3.10.12 torch-2.2.1+cu121 CPU (Intel Xeon 2.20GHz)\n",
            "Model summary (fused): 168 layers, 3005843 parameters, 0 gradients, 8.1 GFLOPs\n",
            "\n",
            "image 1/1 /content/text.jpg: 448x640 2 persons, 150.8ms\n",
            "Speed: 6.0ms preprocess, 150.8ms inference, 1751.0ms postprocess per image at shape (1, 3, 448, 640)\n",
            "Results saved to \u001b[1mruns/detect/predict2\u001b[0m\n",
            "💡 Learn more at https://docs.ultralytics.com/modes/predict\n"
          ]
        }
      ]
    },
    {
      "cell_type": "code",
      "metadata": {
        "id": "1NcFxRcFdJ_O",
        "outputId": "e4e68eef-e818-40f6-b92f-cafe809ae5f3",
        "colab": {
          "base_uri": "https://localhost:8080/"
        }
      },
      "source": [
        "# Train YOLOv8n on COCO8 for 3 epochs\n",
        "!yolo train model=yolov8n.pt data=/content/coco128.yaml epochs=100 imgsz=640"
      ],
      "execution_count": 7,
      "outputs": [
        {
          "output_type": "stream",
          "name": "stdout",
          "text": [
            "Ultralytics YOLOv8.2.12 🚀 Python-3.10.12 torch-2.2.1+cu121 CPU (Intel Xeon 2.20GHz)\n",
            "\u001b[34m\u001b[1mengine/trainer: \u001b[0mtask=detect, mode=train, model=yolov8n.pt, data=/content/coco128.yaml, epochs=100, time=None, patience=100, batch=16, imgsz=640, save=True, save_period=-1, cache=False, device=None, workers=8, project=None, name=train3, exist_ok=False, pretrained=True, optimizer=auto, verbose=True, seed=0, deterministic=True, single_cls=False, rect=False, cos_lr=False, close_mosaic=10, resume=False, amp=True, fraction=1.0, profile=False, freeze=None, multi_scale=False, overlap_mask=True, mask_ratio=4, dropout=0.0, val=True, split=val, save_json=False, save_hybrid=False, conf=None, iou=0.7, max_det=300, half=False, dnn=False, plots=True, source=None, vid_stride=1, stream_buffer=False, visualize=False, augment=False, agnostic_nms=False, classes=None, retina_masks=False, embed=None, show=False, save_frames=False, save_txt=False, save_conf=False, save_crop=False, show_labels=True, show_conf=True, show_boxes=True, line_width=None, format=torchscript, keras=False, optimize=False, int8=False, dynamic=False, simplify=False, opset=None, workspace=4, nms=False, lr0=0.01, lrf=0.01, momentum=0.937, weight_decay=0.0005, warmup_epochs=3.0, warmup_momentum=0.8, warmup_bias_lr=0.1, box=7.5, cls=0.5, dfl=1.5, pose=12.0, kobj=1.0, label_smoothing=0.0, nbs=64, hsv_h=0.015, hsv_s=0.7, hsv_v=0.4, degrees=0.0, translate=0.1, scale=0.5, shear=0.0, perspective=0.0, flipud=0.0, fliplr=0.5, bgr=0.0, mosaic=1.0, mixup=0.0, copy_paste=0.0, auto_augment=randaugment, erasing=0.4, crop_fraction=1.0, cfg=None, tracker=botsort.yaml, save_dir=runs/detect/train3\n",
            "2024-05-11 16:03:31.987388: E external/local_xla/xla/stream_executor/cuda/cuda_dnn.cc:9261] Unable to register cuDNN factory: Attempting to register factory for plugin cuDNN when one has already been registered\n",
            "2024-05-11 16:03:31.987493: E external/local_xla/xla/stream_executor/cuda/cuda_fft.cc:607] Unable to register cuFFT factory: Attempting to register factory for plugin cuFFT when one has already been registered\n",
            "2024-05-11 16:03:31.989506: E external/local_xla/xla/stream_executor/cuda/cuda_blas.cc:1515] Unable to register cuBLAS factory: Attempting to register factory for plugin cuBLAS when one has already been registered\n",
            "Overriding model.yaml nc=80 with nc=1\n",
            "\n",
            "                   from  n    params  module                                       arguments                     \n",
            "  0                  -1  1       464  ultralytics.nn.modules.conv.Conv             [3, 16, 3, 2]                 \n",
            "  1                  -1  1      4672  ultralytics.nn.modules.conv.Conv             [16, 32, 3, 2]                \n",
            "  2                  -1  1      7360  ultralytics.nn.modules.block.C2f             [32, 32, 1, True]             \n",
            "  3                  -1  1     18560  ultralytics.nn.modules.conv.Conv             [32, 64, 3, 2]                \n",
            "  4                  -1  2     49664  ultralytics.nn.modules.block.C2f             [64, 64, 2, True]             \n",
            "  5                  -1  1     73984  ultralytics.nn.modules.conv.Conv             [64, 128, 3, 2]               \n",
            "  6                  -1  2    197632  ultralytics.nn.modules.block.C2f             [128, 128, 2, True]           \n",
            "  7                  -1  1    295424  ultralytics.nn.modules.conv.Conv             [128, 256, 3, 2]              \n",
            "  8                  -1  1    460288  ultralytics.nn.modules.block.C2f             [256, 256, 1, True]           \n",
            "  9                  -1  1    164608  ultralytics.nn.modules.block.SPPF            [256, 256, 5]                 \n",
            " 10                  -1  1         0  torch.nn.modules.upsampling.Upsample         [None, 2, 'nearest']          \n",
            " 11             [-1, 6]  1         0  ultralytics.nn.modules.conv.Concat           [1]                           \n",
            " 12                  -1  1    148224  ultralytics.nn.modules.block.C2f             [384, 128, 1]                 \n",
            " 13                  -1  1         0  torch.nn.modules.upsampling.Upsample         [None, 2, 'nearest']          \n",
            " 14             [-1, 4]  1         0  ultralytics.nn.modules.conv.Concat           [1]                           \n",
            " 15                  -1  1     37248  ultralytics.nn.modules.block.C2f             [192, 64, 1]                  \n",
            " 16                  -1  1     36992  ultralytics.nn.modules.conv.Conv             [64, 64, 3, 2]                \n",
            " 17            [-1, 12]  1         0  ultralytics.nn.modules.conv.Concat           [1]                           \n",
            " 18                  -1  1    123648  ultralytics.nn.modules.block.C2f             [192, 128, 1]                 \n",
            " 19                  -1  1    147712  ultralytics.nn.modules.conv.Conv             [128, 128, 3, 2]              \n",
            " 20             [-1, 9]  1         0  ultralytics.nn.modules.conv.Concat           [1]                           \n",
            " 21                  -1  1    493056  ultralytics.nn.modules.block.C2f             [384, 256, 1]                 \n",
            " 22        [15, 18, 21]  1    751507  ultralytics.nn.modules.head.Detect           [1, [64, 128, 256]]           \n",
            "Model summary: 225 layers, 3011043 parameters, 3011027 gradients, 8.2 GFLOPs\n",
            "\n",
            "Transferred 319/355 items from pretrained weights\n",
            "\u001b[34m\u001b[1mTensorBoard: \u001b[0mStart with 'tensorboard --logdir runs/detect/train3', view at http://localhost:6006/\n",
            "Freezing layer 'model.22.dfl.conv.weight'\n",
            "\u001b[34m\u001b[1mtrain: \u001b[0mScanning /content/coco128/labels/train2017.cache... 39 images, 0 backgrounds, 0 corrupt: 100% 39/39 [00:00<?, ?it/s]\n",
            "\u001b[34m\u001b[1malbumentations: \u001b[0mBlur(p=0.01, blur_limit=(3, 7)), MedianBlur(p=0.01, blur_limit=(3, 7)), ToGray(p=0.01), CLAHE(p=0.01, clip_limit=(1, 4.0), tile_grid_size=(8, 8))\n",
            "\u001b[34m\u001b[1mval: \u001b[0mScanning /content/coco128/labels/train2017.cache... 39 images, 0 backgrounds, 0 corrupt: 100% 39/39 [00:00<?, ?it/s]\n",
            "Plotting labels to runs/detect/train3/labels.jpg... \n",
            "\u001b[34m\u001b[1moptimizer:\u001b[0m 'optimizer=auto' found, ignoring 'lr0=0.01' and 'momentum=0.937' and determining best 'optimizer', 'lr0' and 'momentum' automatically... \n",
            "\u001b[34m\u001b[1moptimizer:\u001b[0m AdamW(lr=0.002, momentum=0.9) with parameter groups 57 weight(decay=0.0), 64 weight(decay=0.0005), 63 bias(decay=0.0)\n",
            "\u001b[34m\u001b[1mTensorBoard: \u001b[0mmodel graph visualization added ✅\n",
            "Image sizes 640 train, 640 val\n",
            "Using 0 dataloader workers\n",
            "Logging results to \u001b[1mruns/detect/train3\u001b[0m\n",
            "Starting training for 100 epochs...\n",
            "\n",
            "      Epoch    GPU_mem   box_loss   cls_loss   dfl_loss  Instances       Size\n",
            "      1/100         0G      1.612       2.85       1.45         40        640: 100% 3/3 [00:45<00:00, 15.18s/it]\n",
            "                 Class     Images  Instances      Box(P          R      mAP50  mAP50-95): 100% 2/2 [00:12<00:00,  6.37s/it]\n",
            "                   all         39        107    0.00795      0.869      0.248      0.126\n",
            "\n",
            "      Epoch    GPU_mem   box_loss   cls_loss   dfl_loss  Instances       Size\n",
            "      2/100         0G        1.8      2.883      1.591         76        640:  33% 1/3 [00:14<00:29, 14.78s/it]^C\n"
          ]
        }
      ]
    },
    {
      "cell_type": "code",
      "source": [
        "! unrar x /content/coco128_rar.rar"
      ],
      "metadata": {
        "colab": {
          "base_uri": "https://localhost:8080/"
        },
        "id": "lGypgsJu4ph2",
        "outputId": "6cd86feb-41e4-42a6-e5da-f30c84b12074"
      },
      "execution_count": 2,
      "outputs": [
        {
          "output_type": "stream",
          "name": "stdout",
          "text": [
            "\n",
            "UNRAR 6.11 beta 1 freeware      Copyright (c) 1993-2022 Alexander Roshal\n",
            "\n",
            "\n",
            "Extracting from /content/coco128_rar.rar\n",
            "\n",
            "Creating    coco128.rar                                               OK\n",
            "Creating    coco128.rar/coco128                                       OK\n",
            "Creating    coco128.rar/coco128/images                                OK\n",
            "Creating    coco128.rar/coco128/images/train2017                      OK\n",
            "Creating    coco128.rar/coco128/labels                                OK\n",
            "Creating    coco128.rar/coco128/labels/train2017                      OK\n",
            "Extracting  coco128.rar/coco128/images/train2017/1.jpg                   \b\b\b\b  3%\b\b\b\b\b  OK \n",
            "Extracting  coco128.rar/coco128/images/train2017/2 .jpg                  \b\b\b\b  7%\b\b\b\b\b  OK \n",
            "Extracting  coco128.rar/coco128/images/train2017/3.jpg                   \b\b\b\b 10%\b\b\b\b\b  OK \n",
            "Extracting  coco128.rar/coco128/images/train2017/5.jpg                   \b\b\b\b 13%\b\b\b\b\b  OK \n",
            "Extracting  coco128.rar/coco128/images/train2017/6.jpg                   \b\b\b\b 15%\b\b\b\b\b  OK \n",
            "Extracting  coco128.rar/coco128/images/train2017/7.jpg                   \b\b\b\b 18%\b\b\b\b\b  OK \n",
            "Extracting  coco128.rar/coco128/images/train2017/8.jpg                   \b\b\b\b 21%\b\b\b\b\b  OK \n",
            "Extracting  coco128.rar/coco128/images/train2017/9.jpg                   \b\b\b\b 24%\b\b\b\b\b  OK \n",
            "Extracting  coco128.rar/coco128/images/train2017/10.jpg                  \b\b\b\b 27%\b\b\b\b\b  OK \n",
            "Extracting  coco128.rar/coco128/images/train2017/11.jpg                  \b\b\b\b 31%\b\b\b\b\b  OK \n",
            "Extracting  coco128.rar/coco128/images/train2017/12.jpg                  \b\b\b\b 32%\b\b\b\b\b  OK \n",
            "Extracting  coco128.rar/coco128/images/train2017/13.jpg                  \b\b\b\b 34%\b\b\b\b\b  OK \n",
            "Extracting  coco128.rar/coco128/images/train2017/14.jpg                  \b\b\b\b 37%\b\b\b\b\b  OK \n",
            "Extracting  coco128.rar/coco128/images/train2017/15.jpg                  \b\b\b\b 38%\b\b\b\b\b  OK \n",
            "Extracting  coco128.rar/coco128/images/train2017/16.jpg                  \b\b\b\b 41%\b\b\b\b\b  OK \n",
            "Extracting  coco128.rar/coco128/images/train2017/17.jpg                  \b\b\b\b 42%\b\b\b\b\b  OK \n",
            "Extracting  coco128.rar/coco128/images/train2017/18.jpg                  \b\b\b\b 44%\b\b\b\b\b  OK \n",
            "Extracting  coco128.rar/coco128/images/train2017/19.jpg                  \b\b\b\b 47%\b\b\b\b\b  OK \n",
            "Extracting  coco128.rar/coco128/images/train2017/20.jpg                  \b\b\b\b 48%\b\b\b\b\b  OK \n",
            "Extracting  coco128.rar/coco128/images/train2017/21.jpg                  \b\b\b\b 51%\b\b\b\b\b  OK \n",
            "Extracting  coco128.rar/coco128/images/train2017/22.jpg                  \b\b\b\b 53%\b\b\b\b\b  OK \n",
            "Extracting  coco128.rar/coco128/images/train2017/23.jpg                  \b\b\b\b 55%\b\b\b\b\b  OK \n",
            "Extracting  coco128.rar/coco128/images/train2017/24.jpg                  \b\b\b\b 57%\b\b\b\b\b  OK \n",
            "Extracting  coco128.rar/coco128/images/train2017/25.jpg                  \b\b\b\b 60%\b\b\b\b\b  OK \n",
            "Extracting  coco128.rar/coco128/images/train2017/26.jpg                  \b\b\b\b 61%\b\b\b\b\b  OK \n",
            "Extracting  coco128.rar/coco128/images/train2017/27.jpg                  \b\b\b\b 63%\b\b\b\b\b  OK \n",
            "Extracting  coco128.rar/coco128/images/train2017/28.jpg                  \b\b\b\b 66%\b\b\b\b\b  OK \n",
            "Extracting  coco128.rar/coco128/images/train2017/29.jpg                  \b\b\b\b 67%\b\b\b\b\b  OK \n",
            "Extracting  coco128.rar/coco128/images/train2017/30.jpg                  \b\b\b\b 70%\b\b\b\b\b  OK \n",
            "Extracting  coco128.rar/coco128/images/train2017/31.jpg                  \b\b\b\b 72%\b\b\b\b\b  OK \n",
            "Extracting  coco128.rar/coco128/images/train2017/32.jpg                  \b\b\b\b 75%\b\b\b\b\b  OK \n",
            "Extracting  coco128.rar/coco128/images/train2017/33.jpg                  \b\b\b\b 78%\b\b\b\b\b  OK \n",
            "Extracting  coco128.rar/coco128/images/train2017/34.jpg                  \b\b\b\b 82%\b\b\b\b\b  OK \n",
            "Extracting  coco128.rar/coco128/images/train2017/35.jpg                  \b\b\b\b 85%\b\b\b\b\b  OK \n",
            "Extracting  coco128.rar/coco128/images/train2017/36.jpg                  \b\b\b\b 88%\b\b\b\b\b  OK \n",
            "Extracting  coco128.rar/coco128/images/train2017/37.jpg                  \b\b\b\b 91%\b\b\b\b\b  OK \n",
            "Extracting  coco128.rar/coco128/images/train2017/38.jpg                  \b\b\b\b 93%\b\b\b\b\b  OK \n",
            "Extracting  coco128.rar/coco128/images/train2017/39.jpg                  \b\b\b\b 96%\b\b\b\b\b  OK \n",
            "Extracting  coco128.rar/coco128/images/train2017/40.jpg                  \b\b\b\b 99%\b\b\b\b\b  OK \n",
            "Extracting  coco128.rar/coco128/labels/train2017/1.txt                   \b\b\b\b 99%\b\b\b\b\b  OK \n",
            "Extracting  coco128.rar/coco128/labels/train2017/2 .txt                  \b\b\b\b 99%\b\b\b\b\b  OK \n",
            "Extracting  coco128.rar/coco128/labels/train2017/3.txt                   \b\b\b\b 99%\b\b\b\b\b  OK \n",
            "Extracting  coco128.rar/coco128/labels/train2017/5.txt                   \b\b\b\b 99%\b\b\b\b\b  OK \n",
            "Extracting  coco128.rar/coco128/labels/train2017/6.txt                   \b\b\b\b 99%\b\b\b\b\b  OK \n",
            "Extracting  coco128.rar/coco128/labels/train2017/7.txt                   \b\b\b\b 99%\b\b\b\b\b  OK \n",
            "Extracting  coco128.rar/coco128/labels/train2017/8.txt                   \b\b\b\b 99%\b\b\b\b\b  OK \n",
            "Extracting  coco128.rar/coco128/labels/train2017/9.txt                   \b\b\b\b 99%\b\b\b\b\b  OK \n",
            "Extracting  coco128.rar/coco128/labels/train2017/10.txt                  \b\b\b\b 99%\b\b\b\b\b  OK \n",
            "Extracting  coco128.rar/coco128/labels/train2017/11.txt                  \b\b\b\b 99%\b\b\b\b\b  OK \n",
            "Extracting  coco128.rar/coco128/labels/train2017/12.txt                  \b\b\b\b 99%\b\b\b\b\b  OK \n",
            "Extracting  coco128.rar/coco128/labels/train2017/13.txt                  \b\b\b\b 99%\b\b\b\b\b  OK \n",
            "Extracting  coco128.rar/coco128/labels/train2017/14.txt                  \b\b\b\b 99%\b\b\b\b\b  OK \n",
            "Extracting  coco128.rar/coco128/labels/train2017/15.txt                  \b\b\b\b 99%\b\b\b\b\b  OK \n",
            "Extracting  coco128.rar/coco128/labels/train2017/16.txt                  \b\b\b\b 99%\b\b\b\b\b  OK \n",
            "Extracting  coco128.rar/coco128/labels/train2017/17.txt                  \b\b\b\b 99%\b\b\b\b\b  OK \n",
            "Extracting  coco128.rar/coco128/labels/train2017/18.txt                  \b\b\b\b 99%\b\b\b\b\b  OK \n",
            "Extracting  coco128.rar/coco128/labels/train2017/19.txt                  \b\b\b\b 99%\b\b\b\b\b  OK \n",
            "Extracting  coco128.rar/coco128/labels/train2017/20.txt                  \b\b\b\b 99%\b\b\b\b\b  OK \n",
            "Extracting  coco128.rar/coco128/labels/train2017/21.txt                  \b\b\b\b 99%\b\b\b\b\b  OK \n",
            "Extracting  coco128.rar/coco128/labels/train2017/22.txt                  \b\b\b\b 99%\b\b\b\b\b  OK \n",
            "Extracting  coco128.rar/coco128/labels/train2017/23.txt                  \b\b\b\b 99%\b\b\b\b\b  OK \n",
            "Extracting  coco128.rar/coco128/labels/train2017/24.txt                  \b\b\b\b 99%\b\b\b\b\b  OK \n",
            "Extracting  coco128.rar/coco128/labels/train2017/25.txt                  \b\b\b\b 99%\b\b\b\b\b  OK \n",
            "Extracting  coco128.rar/coco128/labels/train2017/26.txt                  \b\b\b\b 99%\b\b\b\b\b  OK \n",
            "Extracting  coco128.rar/coco128/labels/train2017/27.txt                  \b\b\b\b 99%\b\b\b\b\b  OK \n",
            "Extracting  coco128.rar/coco128/labels/train2017/28.txt                  \b\b\b\b 99%\b\b\b\b\b  OK \n",
            "Extracting  coco128.rar/coco128/labels/train2017/29.txt                  \b\b\b\b 99%\b\b\b\b\b  OK \n",
            "Extracting  coco128.rar/coco128/labels/train2017/30.txt                  \b\b\b\b 99%\b\b\b\b\b  OK \n",
            "Extracting  coco128.rar/coco128/labels/train2017/31.txt                  \b\b\b\b 99%\b\b\b\b\b  OK \n",
            "Extracting  coco128.rar/coco128/labels/train2017/32.txt                  \b\b\b\b 99%\b\b\b\b\b  OK \n",
            "Extracting  coco128.rar/coco128/labels/train2017/33.txt                  \b\b\b\b 99%\b\b\b\b\b  OK \n",
            "Extracting  coco128.rar/coco128/labels/train2017/34.txt                  \b\b\b\b 99%\b\b\b\b\b  OK \n",
            "Extracting  coco128.rar/coco128/labels/train2017/35.txt                  \b\b\b\b 99%\b\b\b\b\b  OK \n",
            "Extracting  coco128.rar/coco128/labels/train2017/36.txt                  \b\b\b\b 99%\b\b\b\b\b  OK \n",
            "Extracting  coco128.rar/coco128/labels/train2017/37.txt                  \b\b\b\b 99%\b\b\b\b\b  OK \n",
            "Extracting  coco128.rar/coco128/labels/train2017/38.txt                  \b\b\b\b 99%\b\b\b\b\b  OK \n",
            "Extracting  coco128.rar/coco128/labels/train2017/39.txt                  \b\b\b\b 99%\b\b\b\b\b  OK \n",
            "Extracting  coco128.rar/coco128/labels/train2017/40.txt                  \b\b\b\b100%\b\b\b\b\b  OK \n",
            "All OK\n"
          ]
        }
      ]
    }
  ]
}